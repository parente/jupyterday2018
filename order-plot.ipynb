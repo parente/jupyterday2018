{
 "cells": [
  {
   "cell_type": "markdown",
   "metadata": {},
   "source": [
    "How did tickets sell for JupyterDay in the Triangle 2018?"
   ]
  },
  {
   "cell_type": "code",
   "execution_count": 1,
   "metadata": {},
   "outputs": [],
   "source": [
    "import altair as alt\n",
    "import pandas as pd"
   ]
  },
  {
   "cell_type": "markdown",
   "metadata": {},
   "source": [
    "Take the anonymized sales data."
   ]
  },
  {
   "cell_type": "code",
   "execution_count": 2,
   "metadata": {},
   "outputs": [],
   "source": [
    "df = pd.read_csv('tickets-2018-10-30-clean.csv')"
   ]
  },
  {
   "cell_type": "code",
   "execution_count": 3,
   "metadata": {},
   "outputs": [
    {
     "data": {
      "text/html": [
       "<div>\n",
       "<style scoped>\n",
       "    .dataframe tbody tr th:only-of-type {\n",
       "        vertical-align: middle;\n",
       "    }\n",
       "\n",
       "    .dataframe tbody tr th {\n",
       "        vertical-align: top;\n",
       "    }\n",
       "\n",
       "    .dataframe thead th {\n",
       "        text-align: right;\n",
       "    }\n",
       "</style>\n",
       "<table border=\"1\" class=\"dataframe\">\n",
       "  <thead>\n",
       "    <tr style=\"text-align: right;\">\n",
       "      <th></th>\n",
       "      <th>quantity</th>\n",
       "      <th>orderdate</th>\n",
       "      <th>tickettype</th>\n",
       "    </tr>\n",
       "  </thead>\n",
       "  <tbody>\n",
       "    <tr>\n",
       "      <th>0</th>\n",
       "      <td>1</td>\n",
       "      <td>2018-09-10 11:20:44-04:00</td>\n",
       "      <td>Early Bird General Public</td>\n",
       "    </tr>\n",
       "    <tr>\n",
       "      <th>1</th>\n",
       "      <td>1</td>\n",
       "      <td>2018-09-10 11:33:29-04:00</td>\n",
       "      <td>Early Bird General Public</td>\n",
       "    </tr>\n",
       "    <tr>\n",
       "      <th>2</th>\n",
       "      <td>1</td>\n",
       "      <td>2018-09-10 11:39:46-04:00</td>\n",
       "      <td>Student</td>\n",
       "    </tr>\n",
       "    <tr>\n",
       "      <th>3</th>\n",
       "      <td>1</td>\n",
       "      <td>2018-09-10 12:19:48-04:00</td>\n",
       "      <td>Early Bird General Public</td>\n",
       "    </tr>\n",
       "    <tr>\n",
       "      <th>4</th>\n",
       "      <td>1</td>\n",
       "      <td>2018-09-10 12:27:49-04:00</td>\n",
       "      <td>Early Bird General Public</td>\n",
       "    </tr>\n",
       "  </tbody>\n",
       "</table>\n",
       "</div>"
      ],
      "text/plain": [
       "   quantity                  orderdate                 tickettype\n",
       "0         1  2018-09-10 11:20:44-04:00  Early Bird General Public\n",
       "1         1  2018-09-10 11:33:29-04:00  Early Bird General Public\n",
       "2         1  2018-09-10 11:39:46-04:00                    Student\n",
       "3         1  2018-09-10 12:19:48-04:00  Early Bird General Public\n",
       "4         1  2018-09-10 12:27:49-04:00  Early Bird General Public"
      ]
     },
     "execution_count": 3,
     "metadata": {},
     "output_type": "execute_result"
    }
   ],
   "source": [
    "df.head()"
   ]
  },
  {
   "cell_type": "markdown",
   "metadata": {},
   "source": [
    "Plot the cumulative sales by date."
   ]
  },
  {
   "cell_type": "code",
   "execution_count": 4,
   "metadata": {},
   "outputs": [
    {
     "data": {
      "application/vnd.vegalite.v2+json": {
       "$schema": "https://vega.github.io/schema/vega-lite/v2.6.0.json",
       "config": {
        "view": {
         "height": 300,
         "width": 400
        }
       },
       "data": {
        "name": "data-bf6248baf0827936079f4a06006743d9"
       },
       "datasets": {
        "data-bf6248baf0827936079f4a06006743d9": [
         {
          "orderdate": "2018-09-10 11:20:44-04:00",
          "quantity": 1,
          "tickettype": "Early Bird General Public"
         },
         {
          "orderdate": "2018-09-10 11:33:29-04:00",
          "quantity": 1,
          "tickettype": "Early Bird General Public"
         },
         {
          "orderdate": "2018-09-10 11:39:46-04:00",
          "quantity": 1,
          "tickettype": "Student"
         },
         {
          "orderdate": "2018-09-10 12:19:48-04:00",
          "quantity": 1,
          "tickettype": "Early Bird General Public"
         },
         {
          "orderdate": "2018-09-10 12:27:49-04:00",
          "quantity": 1,
          "tickettype": "Early Bird General Public"
         },
         {
          "orderdate": "2018-09-10 20:36:41-04:00",
          "quantity": 4,
          "tickettype": "Early Bird General Public"
         },
         {
          "orderdate": "2018-09-11 10:11:56-04:00",
          "quantity": 1,
          "tickettype": "Student"
         },
         {
          "orderdate": "2018-09-11 12:47:30-04:00",
          "quantity": 1,
          "tickettype": "Early Bird General Public"
         },
         {
          "orderdate": "2018-09-12 04:49:46-04:00",
          "quantity": 1,
          "tickettype": "Early Bird General Public"
         },
         {
          "orderdate": "2018-09-16 12:25:03-04:00",
          "quantity": 1,
          "tickettype": "Early Bird General Public"
         },
         {
          "orderdate": "2018-09-17 14:41:21-04:00",
          "quantity": 1,
          "tickettype": "Early Bird General Public"
         },
         {
          "orderdate": "2018-09-17 14:43:15-04:00",
          "quantity": 1,
          "tickettype": "Early Bird General Public"
         },
         {
          "orderdate": "2018-09-17 14:47:10-04:00",
          "quantity": 1,
          "tickettype": "Student"
         },
         {
          "orderdate": "2018-09-17 15:04:19-04:00",
          "quantity": 1,
          "tickettype": "Early Bird General Public"
         },
         {
          "orderdate": "2018-09-17 15:54:13-04:00",
          "quantity": 1,
          "tickettype": "Early Bird General Public"
         },
         {
          "orderdate": "2018-09-17 17:34:36-04:00",
          "quantity": 1,
          "tickettype": "Early Bird General Public"
         },
         {
          "orderdate": "2018-09-17 22:31:33-04:00",
          "quantity": 1,
          "tickettype": "Early Bird General Public"
         },
         {
          "orderdate": "2018-09-19 11:40:16-04:00",
          "quantity": 1,
          "tickettype": "Early Bird General Public"
         },
         {
          "orderdate": "2018-09-19 15:03:40-04:00",
          "quantity": 1,
          "tickettype": "Early Bird General Public"
         },
         {
          "orderdate": "2018-09-20 05:04:14-04:00",
          "quantity": 1,
          "tickettype": "Early Bird General Public"
         },
         {
          "orderdate": "2018-09-20 15:24:16-04:00",
          "quantity": 1,
          "tickettype": "Early Bird General Public"
         },
         {
          "orderdate": "2018-09-21 11:45:47-04:00",
          "quantity": 1,
          "tickettype": "Early Bird General Public"
         },
         {
          "orderdate": "2018-09-21 19:18:17-04:00",
          "quantity": 1,
          "tickettype": "Student"
         },
         {
          "orderdate": "2018-09-24 15:34:01-04:00",
          "quantity": 1,
          "tickettype": "Student"
         },
         {
          "orderdate": "2018-09-25 06:59:17-04:00",
          "quantity": 1,
          "tickettype": "Early Bird General Public"
         },
         {
          "orderdate": "2018-09-25 09:44:52-04:00",
          "quantity": 1,
          "tickettype": "Early Bird General Public"
         },
         {
          "orderdate": "2018-09-26 09:27:06-04:00",
          "quantity": 1,
          "tickettype": "Early Bird General Public"
         },
         {
          "orderdate": "2018-09-27 09:20:30-04:00",
          "quantity": 1,
          "tickettype": "Early Bird General Public"
         },
         {
          "orderdate": "2018-09-27 10:40:51-04:00",
          "quantity": 1,
          "tickettype": "Early Bird General Public"
         },
         {
          "orderdate": "2018-09-27 19:18:47-04:00",
          "quantity": 1,
          "tickettype": "Early Bird General Public"
         },
         {
          "orderdate": "2018-10-01 05:16:10-04:00",
          "quantity": 1,
          "tickettype": "Early Bird General Public"
         },
         {
          "orderdate": "2018-10-01 12:53:04-04:00",
          "quantity": 1,
          "tickettype": "Early Bird General Public"
         },
         {
          "orderdate": "2018-10-03 09:17:00-04:00",
          "quantity": 1,
          "tickettype": "Early Bird General Public"
         },
         {
          "orderdate": "2018-10-04 07:04:56-04:00",
          "quantity": 1,
          "tickettype": "Student"
         },
         {
          "orderdate": "2018-10-09 10:57:41-04:00",
          "quantity": 1,
          "tickettype": "Early Bird General Public"
         },
         {
          "orderdate": "2018-10-11 15:21:39-04:00",
          "quantity": 1,
          "tickettype": "Early Bird General Public"
         },
         {
          "orderdate": "2018-10-12 11:16:13-04:00",
          "quantity": 1,
          "tickettype": "Early Bird General Public"
         },
         {
          "orderdate": "2018-10-12 17:39:25-04:00",
          "quantity": 1,
          "tickettype": "Early Bird General Public"
         },
         {
          "orderdate": "2018-10-12 23:06:24-04:00",
          "quantity": 1,
          "tickettype": "Student"
         },
         {
          "orderdate": "2018-10-16 03:19:54-04:00",
          "quantity": 1,
          "tickettype": "General Public"
         },
         {
          "orderdate": "2018-10-17 08:03:45-04:00",
          "quantity": 1,
          "tickettype": "General Public"
         },
         {
          "orderdate": "2018-10-17 13:45:45-04:00",
          "quantity": 1,
          "tickettype": "General Public"
         },
         {
          "orderdate": "2018-10-18 07:24:53-04:00",
          "quantity": 1,
          "tickettype": "Student"
         },
         {
          "orderdate": "2018-10-18 08:53:38-04:00",
          "quantity": 1,
          "tickettype": "Student"
         },
         {
          "orderdate": "2018-10-18 15:29:54-04:00",
          "quantity": 1,
          "tickettype": "General Public"
         },
         {
          "orderdate": "2018-10-18 19:27:00-04:00",
          "quantity": 1,
          "tickettype": "General Public"
         },
         {
          "orderdate": "2018-10-18 19:27:00-04:00",
          "quantity": 1,
          "tickettype": "Donation to help Jupyter Day expenses"
         },
         {
          "orderdate": "2018-10-22 16:21:47-04:00",
          "quantity": 1,
          "tickettype": "General Public"
         },
         {
          "orderdate": "2018-10-22 16:24:59-04:00",
          "quantity": 1,
          "tickettype": "General Public"
         },
         {
          "orderdate": "2018-10-23 10:31:09-04:00",
          "quantity": 1,
          "tickettype": "General Public"
         },
         {
          "orderdate": "2018-10-23 10:34:06-04:00",
          "quantity": 1,
          "tickettype": "General Public"
         },
         {
          "orderdate": "2018-10-23 13:49:18-04:00",
          "quantity": 1,
          "tickettype": "General Public"
         },
         {
          "orderdate": "2018-10-23 13:52:42-04:00",
          "quantity": 1,
          "tickettype": "General Public"
         },
         {
          "orderdate": "2018-10-23 13:57:19-04:00",
          "quantity": 1,
          "tickettype": "General Public"
         },
         {
          "orderdate": "2018-10-23 14:01:59-04:00",
          "quantity": 1,
          "tickettype": "General Public"
         },
         {
          "orderdate": "2018-10-23 14:11:23-04:00",
          "quantity": 1,
          "tickettype": "General Public"
         },
         {
          "orderdate": "2018-10-23 14:25:28-04:00",
          "quantity": 1,
          "tickettype": "General Public"
         },
         {
          "orderdate": "2018-10-23 14:30:43-04:00",
          "quantity": 1,
          "tickettype": "General Public"
         },
         {
          "orderdate": "2018-10-23 14:32:08-04:00",
          "quantity": 1,
          "tickettype": "General Public"
         },
         {
          "orderdate": "2018-10-23 14:38:15-04:00",
          "quantity": 1,
          "tickettype": "General Public"
         },
         {
          "orderdate": "2018-10-23 14:46:30-04:00",
          "quantity": 2,
          "tickettype": "General Public"
         },
         {
          "orderdate": "2018-10-23 14:48:56-04:00",
          "quantity": 1,
          "tickettype": "General Public"
         },
         {
          "orderdate": "2018-10-23 14:50:20-04:00",
          "quantity": 1,
          "tickettype": "General Public"
         },
         {
          "orderdate": "2018-10-23 14:53:08-04:00",
          "quantity": 1,
          "tickettype": "General Public"
         },
         {
          "orderdate": "2018-10-23 14:54:46-04:00",
          "quantity": 1,
          "tickettype": "General Public"
         },
         {
          "orderdate": "2018-10-23 14:55:46-04:00",
          "quantity": 1,
          "tickettype": "General Public"
         },
         {
          "orderdate": "2018-10-23 14:57:01-04:00",
          "quantity": 1,
          "tickettype": "General Public"
         },
         {
          "orderdate": "2018-10-23 16:15:11-04:00",
          "quantity": 1,
          "tickettype": "General Public"
         },
         {
          "orderdate": "2018-10-23 14:03:50-04:00",
          "quantity": 1,
          "tickettype": "General Public"
         },
         {
          "orderdate": "2018-10-24 08:14:30-04:00",
          "quantity": 1,
          "tickettype": "General Public"
         },
         {
          "orderdate": "2018-10-24 12:08:33-04:00",
          "quantity": 1,
          "tickettype": "General Public"
         },
         {
          "orderdate": "2018-10-24 12:09:20-04:00",
          "quantity": 1,
          "tickettype": "General Public"
         },
         {
          "orderdate": "2018-10-24 12:10:01-04:00",
          "quantity": 1,
          "tickettype": "General Public"
         },
         {
          "orderdate": "2018-10-24 12:10:47-04:00",
          "quantity": 1,
          "tickettype": "General Public"
         },
         {
          "orderdate": "2018-10-24 12:11:48-04:00",
          "quantity": 1,
          "tickettype": "General Public"
         },
         {
          "orderdate": "2018-10-24 12:12:32-04:00",
          "quantity": 1,
          "tickettype": "General Public"
         },
         {
          "orderdate": "2018-10-24 12:14:01-04:00",
          "quantity": 1,
          "tickettype": "General Public"
         },
         {
          "orderdate": "2018-10-24 12:14:46-04:00",
          "quantity": 1,
          "tickettype": "General Public"
         },
         {
          "orderdate": "2018-10-24 12:16:09-04:00",
          "quantity": 1,
          "tickettype": "General Public"
         },
         {
          "orderdate": "2018-10-24 12:17:06-04:00",
          "quantity": 1,
          "tickettype": "General Public"
         },
         {
          "orderdate": "2018-10-24 12:17:47-04:00",
          "quantity": 1,
          "tickettype": "General Public"
         },
         {
          "orderdate": "2018-10-24 12:37:20-04:00",
          "quantity": 1,
          "tickettype": "General Public"
         },
         {
          "orderdate": "2018-10-24 15:29:01-04:00",
          "quantity": 1,
          "tickettype": "General Public"
         },
         {
          "orderdate": "2018-10-24 15:29:47-04:00",
          "quantity": 1,
          "tickettype": "General Public"
         },
         {
          "orderdate": "2018-10-25 09:27:17-04:00",
          "quantity": 1,
          "tickettype": "General Public"
         },
         {
          "orderdate": "2018-10-25 10:54:24-04:00",
          "quantity": 1,
          "tickettype": "General Public"
         },
         {
          "orderdate": "2018-10-25 15:37:35-04:00",
          "quantity": 1,
          "tickettype": "General Public"
         },
         {
          "orderdate": "2018-10-25 15:38:15-04:00",
          "quantity": 1,
          "tickettype": "General Public"
         },
         {
          "orderdate": "2018-10-25 15:38:58-04:00",
          "quantity": 1,
          "tickettype": "General Public"
         },
         {
          "orderdate": "2018-10-25 15:39:45-04:00",
          "quantity": 1,
          "tickettype": "General Public"
         },
         {
          "orderdate": "2018-10-25 16:35:07-04:00",
          "quantity": 1,
          "tickettype": "General Public"
         },
         {
          "orderdate": "2018-10-25 16:38:59-04:00",
          "quantity": 1,
          "tickettype": "General Public"
         },
         {
          "orderdate": "2018-10-25 16:39:46-04:00",
          "quantity": 1,
          "tickettype": "General Public"
         },
         {
          "orderdate": "2018-10-25 16:41:03-04:00",
          "quantity": 1,
          "tickettype": "General Public"
         },
         {
          "orderdate": "2018-10-25 16:42:20-04:00",
          "quantity": 1,
          "tickettype": "General Public"
         },
         {
          "orderdate": "2018-10-25 16:48:30-04:00",
          "quantity": 1,
          "tickettype": "General Public"
         },
         {
          "orderdate": "2018-10-25 16:48:58-04:00",
          "quantity": 1,
          "tickettype": "General Public"
         },
         {
          "orderdate": "2018-10-25 16:49:28-04:00",
          "quantity": 1,
          "tickettype": "General Public"
         },
         {
          "orderdate": "2018-10-25 16:50:06-04:00",
          "quantity": 1,
          "tickettype": "General Public"
         },
         {
          "orderdate": "2018-10-26 15:51:22-04:00",
          "quantity": 1,
          "tickettype": "General Public"
         },
         {
          "orderdate": "2018-10-28 21:48:22-04:00",
          "quantity": 1,
          "tickettype": "General Public"
         },
         {
          "orderdate": "2018-10-29 09:43:48-04:00",
          "quantity": 1,
          "tickettype": "General Public"
         },
         {
          "orderdate": "2018-10-29 12:41:12-04:00",
          "quantity": 1,
          "tickettype": "General Public"
         },
         {
          "orderdate": "2018-10-30 07:51:22-04:00",
          "quantity": 1,
          "tickettype": "General Public"
         },
         {
          "orderdate": "2018-10-30 07:52:44-04:00",
          "quantity": 1,
          "tickettype": "General Public"
         },
         {
          "orderdate": "2018-10-30 07:58:36-04:00",
          "quantity": 1,
          "tickettype": "General Public"
         },
         {
          "orderdate": "2018-10-30 07:59:36-04:00",
          "quantity": 1,
          "tickettype": "General Public"
         }
        ]
       },
       "encoding": {
        "color": {
         "field": "tickettype",
         "type": "nominal"
        },
        "x": {
         "field": "orderdate",
         "type": "temporal"
        },
        "y": {
         "field": "tickettotal",
         "type": "quantitative"
        }
       },
       "mark": "circle",
       "selection": {
        "selector001": {
         "bind": "scales",
         "encodings": [
          "x",
          "y"
         ],
         "mark": {
          "fill": "#333",
          "fillOpacity": 0.125,
          "stroke": "white"
         },
         "on": "[mousedown, window:mouseup] > window:mousemove!",
         "resolve": "global",
         "translate": "[mousedown, window:mouseup] > window:mousemove!",
         "type": "interval",
         "zoom": "wheel!"
        }
       },
       "transform": [
        {
         "window": [
          {
           "as": "tickettotal",
           "field": "quantity",
           "op": "sum"
          }
         ]
        }
       ]
      },
      "image/png": "[encoded data removed]",
      "text/plain": [
       "<VegaLite 2 object>\n",
       "\n",
       "If you see this message, it means the renderer has not been properly enabled\n",
       "for the frontend that you are using. For more information, see\n",
       "https://altair-viz.github.io/user_guide/troubleshooting.html\n"
      ]
     },
     "execution_count": 4,
     "metadata": {},
     "output_type": "execute_result"
    }
   ],
   "source": [
    "ch = alt.Chart(df).mark_circle()\n",
    "ch = ch.transform_window(\n",
    "    tickettotal='sum(quantity)'\n",
    ")\n",
    "ch = ch.encode(\n",
    "    alt.X('orderdate:T'),\n",
    "    alt.Y('tickettotal:Q'),\n",
    "    alt.Color('tickettype:N'),\n",
    ")\n",
    "\n",
    "ch.interactive()"
   ]
  }
 ],
 "metadata": {
  "kernelspec": {
   "display_name": "Python 3",
   "language": "python",
   "name": "python3"
  },
  "language_info": {
   "codemirror_mode": {
    "name": "ipython",
    "version": 3
   },
   "file_extension": ".py",
   "mimetype": "text/x-python",
   "name": "python",
   "nbconvert_exporter": "python",
   "pygments_lexer": "ipython3",
   "version": "3.6.6"
  }
 },
 "nbformat": 4,
 "nbformat_minor": 2
}
